{
 "cells": [
  {
   "cell_type": "code",
   "execution_count": 1,
   "id": "f8edc257",
   "metadata": {
    "_cell_guid": "b1076dfc-b9ad-4769-8c92-a6c4dae69d19",
    "_uuid": "8f2839f25d086af736a60e9eeb907d3b93b6e0e5",
    "execution": {
     "iopub.execute_input": "2024-09-17T21:15:00.246544Z",
     "iopub.status.busy": "2024-09-17T21:15:00.245973Z",
     "iopub.status.idle": "2024-09-17T21:15:02.690003Z",
     "shell.execute_reply": "2024-09-17T21:15:02.688501Z"
    },
    "papermill": {
     "duration": 2.454305,
     "end_time": "2024-09-17T21:15:02.693227",
     "exception": false,
     "start_time": "2024-09-17T21:15:00.238922",
     "status": "completed"
    },
    "tags": []
   },
   "outputs": [
    {
     "name": "stdout",
     "output_type": "stream",
     "text": [
      "/kaggle/input/netflix-shows/netflix_titles.csv\n"
     ]
    }
   ],
   "source": [
    "# This Python 3 environment comes with many helpful analytics libraries installed\n",
    "# It is defined by the kaggle/python Docker image: https://github.com/kaggle/docker-python\n",
    "# For example, here's several helpful packages to load\n",
    "\n",
    "import numpy as np # linear algebra\n",
    "import pandas as pd # data processing, CSV file I/O (e.g. pd.read_csv)\n",
    "from matplotlib import pyplot as plt\n",
    "import seaborn as sns\n",
    "\n",
    "# Input data files are available in the read-only \"../input/\" directory\n",
    "# For example, running this (by clicking run or pressing Shift+Enter) will list all files under the input directory\n",
    "\n",
    "import os\n",
    "for dirname, _, filenames in os.walk('/kaggle/input'):\n",
    "    for filename in filenames:\n",
    "        print(os.path.join(dirname, filename))\n",
    "\n",
    "# You can write up to 20GB to the current directory (/kaggle/working/) that gets preserved as output when you create a version using \"Save & Run All\" \n",
    "# You can also write temporary files to /kaggle/temp/, but they won't be saved outside of the current session"
   ]
  },
  {
   "cell_type": "code",
   "execution_count": 2,
   "id": "ce43c2c1",
   "metadata": {
    "execution": {
     "iopub.execute_input": "2024-09-17T21:15:02.706330Z",
     "iopub.status.busy": "2024-09-17T21:15:02.705765Z",
     "iopub.status.idle": "2024-09-17T21:15:02.888115Z",
     "shell.execute_reply": "2024-09-17T21:15:02.886002Z"
    },
    "papermill": {
     "duration": 0.193715,
     "end_time": "2024-09-17T21:15:02.892686",
     "exception": false,
     "start_time": "2024-09-17T21:15:02.698971",
     "status": "completed"
    },
    "tags": []
   },
   "outputs": [
    {
     "data": {
      "text/html": [
       "<div>\n",
       "<style scoped>\n",
       "    .dataframe tbody tr th:only-of-type {\n",
       "        vertical-align: middle;\n",
       "    }\n",
       "\n",
       "    .dataframe tbody tr th {\n",
       "        vertical-align: top;\n",
       "    }\n",
       "\n",
       "    .dataframe thead th {\n",
       "        text-align: right;\n",
       "    }\n",
       "</style>\n",
       "<table border=\"1\" class=\"dataframe\">\n",
       "  <thead>\n",
       "    <tr style=\"text-align: right;\">\n",
       "      <th></th>\n",
       "      <th>show_id</th>\n",
       "      <th>type</th>\n",
       "      <th>title</th>\n",
       "      <th>director</th>\n",
       "      <th>cast</th>\n",
       "      <th>country</th>\n",
       "      <th>date_added</th>\n",
       "      <th>release_year</th>\n",
       "      <th>rating</th>\n",
       "      <th>duration</th>\n",
       "      <th>listed_in</th>\n",
       "      <th>description</th>\n",
       "    </tr>\n",
       "  </thead>\n",
       "  <tbody>\n",
       "    <tr>\n",
       "      <th>0</th>\n",
       "      <td>s1</td>\n",
       "      <td>Movie</td>\n",
       "      <td>Dick Johnson Is Dead</td>\n",
       "      <td>Kirsten Johnson</td>\n",
       "      <td>NaN</td>\n",
       "      <td>United States</td>\n",
       "      <td>September 25, 2021</td>\n",
       "      <td>2020</td>\n",
       "      <td>PG-13</td>\n",
       "      <td>90 min</td>\n",
       "      <td>Documentaries</td>\n",
       "      <td>As her father nears the end of his life, filmm...</td>\n",
       "    </tr>\n",
       "    <tr>\n",
       "      <th>1</th>\n",
       "      <td>s2</td>\n",
       "      <td>TV Show</td>\n",
       "      <td>Blood &amp; Water</td>\n",
       "      <td>NaN</td>\n",
       "      <td>Ama Qamata, Khosi Ngema, Gail Mabalane, Thaban...</td>\n",
       "      <td>South Africa</td>\n",
       "      <td>September 24, 2021</td>\n",
       "      <td>2021</td>\n",
       "      <td>TV-MA</td>\n",
       "      <td>2 Seasons</td>\n",
       "      <td>International TV Shows, TV Dramas, TV Mysteries</td>\n",
       "      <td>After crossing paths at a party, a Cape Town t...</td>\n",
       "    </tr>\n",
       "    <tr>\n",
       "      <th>2</th>\n",
       "      <td>s3</td>\n",
       "      <td>TV Show</td>\n",
       "      <td>Ganglands</td>\n",
       "      <td>Julien Leclercq</td>\n",
       "      <td>Sami Bouajila, Tracy Gotoas, Samuel Jouy, Nabi...</td>\n",
       "      <td>NaN</td>\n",
       "      <td>September 24, 2021</td>\n",
       "      <td>2021</td>\n",
       "      <td>TV-MA</td>\n",
       "      <td>1 Season</td>\n",
       "      <td>Crime TV Shows, International TV Shows, TV Act...</td>\n",
       "      <td>To protect his family from a powerful drug lor...</td>\n",
       "    </tr>\n",
       "  </tbody>\n",
       "</table>\n",
       "</div>"
      ],
      "text/plain": [
       "  show_id     type                 title         director  \\\n",
       "0      s1    Movie  Dick Johnson Is Dead  Kirsten Johnson   \n",
       "1      s2  TV Show         Blood & Water              NaN   \n",
       "2      s3  TV Show             Ganglands  Julien Leclercq   \n",
       "\n",
       "                                                cast        country  \\\n",
       "0                                                NaN  United States   \n",
       "1  Ama Qamata, Khosi Ngema, Gail Mabalane, Thaban...   South Africa   \n",
       "2  Sami Bouajila, Tracy Gotoas, Samuel Jouy, Nabi...            NaN   \n",
       "\n",
       "           date_added  release_year rating   duration  \\\n",
       "0  September 25, 2021          2020  PG-13     90 min   \n",
       "1  September 24, 2021          2021  TV-MA  2 Seasons   \n",
       "2  September 24, 2021          2021  TV-MA   1 Season   \n",
       "\n",
       "                                           listed_in  \\\n",
       "0                                      Documentaries   \n",
       "1    International TV Shows, TV Dramas, TV Mysteries   \n",
       "2  Crime TV Shows, International TV Shows, TV Act...   \n",
       "\n",
       "                                         description  \n",
       "0  As her father nears the end of his life, filmm...  \n",
       "1  After crossing paths at a party, a Cape Town t...  \n",
       "2  To protect his family from a powerful drug lor...  "
      ]
     },
     "execution_count": 2,
     "metadata": {},
     "output_type": "execute_result"
    }
   ],
   "source": [
    "df=pd.read_csv('/kaggle/input/netflix-shows/netflix_titles.csv')\n",
    "\n",
    "df.head(3)"
   ]
  },
  {
   "cell_type": "code",
   "execution_count": 3,
   "id": "aeecc976",
   "metadata": {
    "execution": {
     "iopub.execute_input": "2024-09-17T21:15:02.905358Z",
     "iopub.status.busy": "2024-09-17T21:15:02.904931Z",
     "iopub.status.idle": "2024-09-17T21:15:02.970660Z",
     "shell.execute_reply": "2024-09-17T21:15:02.969162Z"
    },
    "papermill": {
     "duration": 0.075072,
     "end_time": "2024-09-17T21:15:02.973228",
     "exception": false,
     "start_time": "2024-09-17T21:15:02.898156",
     "status": "completed"
    },
    "tags": []
   },
   "outputs": [
    {
     "name": "stdout",
     "output_type": "stream",
     "text": [
      "<class 'pandas.core.frame.DataFrame'>\n",
      "RangeIndex: 8807 entries, 0 to 8806\n",
      "Data columns (total 12 columns):\n",
      " #   Column        Non-Null Count  Dtype \n",
      "---  ------        --------------  ----- \n",
      " 0   show_id       8807 non-null   object\n",
      " 1   type          8807 non-null   object\n",
      " 2   title         8807 non-null   object\n",
      " 3   director      6173 non-null   object\n",
      " 4   cast          7982 non-null   object\n",
      " 5   country       7976 non-null   object\n",
      " 6   date_added    8797 non-null   object\n",
      " 7   release_year  8807 non-null   int64 \n",
      " 8   rating        8803 non-null   object\n",
      " 9   duration      8804 non-null   object\n",
      " 10  listed_in     8807 non-null   object\n",
      " 11  description   8807 non-null   object\n",
      "dtypes: int64(1), object(11)\n",
      "memory usage: 825.8+ KB\n"
     ]
    },
    {
     "data": {
      "text/plain": [
       "show_id            0\n",
       "type               0\n",
       "title              0\n",
       "director        2634\n",
       "cast             825\n",
       "country          831\n",
       "date_added        10\n",
       "release_year       0\n",
       "rating             4\n",
       "duration           3\n",
       "listed_in          0\n",
       "description        0\n",
       "dtype: int64"
      ]
     },
     "execution_count": 3,
     "metadata": {},
     "output_type": "execute_result"
    }
   ],
   "source": [
    "df.info()\n",
    "df.describe()\n",
    "df.isna().sum()"
   ]
  },
  {
   "cell_type": "code",
   "execution_count": 4,
   "id": "984fa7aa",
   "metadata": {
    "execution": {
     "iopub.execute_input": "2024-09-17T21:15:02.985705Z",
     "iopub.status.busy": "2024-09-17T21:15:02.985231Z",
     "iopub.status.idle": "2024-09-17T21:15:03.026331Z",
     "shell.execute_reply": "2024-09-17T21:15:03.024898Z"
    },
    "papermill": {
     "duration": 0.051128,
     "end_time": "2024-09-17T21:15:03.029667",
     "exception": false,
     "start_time": "2024-09-17T21:15:02.978539",
     "status": "completed"
    },
    "tags": []
   },
   "outputs": [
    {
     "data": {
      "text/html": [
       "<div>\n",
       "<style scoped>\n",
       "    .dataframe tbody tr th:only-of-type {\n",
       "        vertical-align: middle;\n",
       "    }\n",
       "\n",
       "    .dataframe tbody tr th {\n",
       "        vertical-align: top;\n",
       "    }\n",
       "\n",
       "    .dataframe thead th {\n",
       "        text-align: right;\n",
       "    }\n",
       "</style>\n",
       "<table border=\"1\" class=\"dataframe\">\n",
       "  <thead>\n",
       "    <tr style=\"text-align: right;\">\n",
       "      <th></th>\n",
       "      <th>show_id</th>\n",
       "      <th>type</th>\n",
       "      <th>title</th>\n",
       "      <th>director</th>\n",
       "      <th>cast</th>\n",
       "      <th>country</th>\n",
       "      <th>date_added</th>\n",
       "      <th>release_year</th>\n",
       "      <th>rating</th>\n",
       "      <th>duration</th>\n",
       "      <th>listed_in</th>\n",
       "      <th>description</th>\n",
       "    </tr>\n",
       "  </thead>\n",
       "  <tbody>\n",
       "    <tr>\n",
       "      <th>7</th>\n",
       "      <td>s8</td>\n",
       "      <td>Movie</td>\n",
       "      <td>Sankofa</td>\n",
       "      <td>Haile Gerima</td>\n",
       "      <td>Kofi Ghanaba, Oyafunmike Ogunlano, Alexandra D...</td>\n",
       "      <td>United States, Ghana, Burkina Faso, United Kin...</td>\n",
       "      <td>September 24, 2021</td>\n",
       "      <td>1993</td>\n",
       "      <td>TV-MA</td>\n",
       "      <td>125 min</td>\n",
       "      <td>Dramas, Independent Movies, International Movies</td>\n",
       "      <td>On a photo shoot in Ghana, an American model s...</td>\n",
       "    </tr>\n",
       "    <tr>\n",
       "      <th>8</th>\n",
       "      <td>s9</td>\n",
       "      <td>TV Show</td>\n",
       "      <td>The Great British Baking Show</td>\n",
       "      <td>Andy Devonshire</td>\n",
       "      <td>Mel Giedroyc, Sue Perkins, Mary Berry, Paul Ho...</td>\n",
       "      <td>United Kingdom</td>\n",
       "      <td>September 24, 2021</td>\n",
       "      <td>2021</td>\n",
       "      <td>TV-14</td>\n",
       "      <td>9 Seasons</td>\n",
       "      <td>British TV Shows, Reality TV</td>\n",
       "      <td>A talented batch of amateur bakers face off in...</td>\n",
       "    </tr>\n",
       "    <tr>\n",
       "      <th>9</th>\n",
       "      <td>s10</td>\n",
       "      <td>Movie</td>\n",
       "      <td>The Starling</td>\n",
       "      <td>Theodore Melfi</td>\n",
       "      <td>Melissa McCarthy, Chris O'Dowd, Kevin Kline, T...</td>\n",
       "      <td>United States</td>\n",
       "      <td>September 24, 2021</td>\n",
       "      <td>2021</td>\n",
       "      <td>PG-13</td>\n",
       "      <td>104 min</td>\n",
       "      <td>Comedies, Dramas</td>\n",
       "      <td>A woman adjusting to life after a loss contend...</td>\n",
       "    </tr>\n",
       "  </tbody>\n",
       "</table>\n",
       "</div>"
      ],
      "text/plain": [
       "  show_id     type                          title         director  \\\n",
       "7      s8    Movie                        Sankofa     Haile Gerima   \n",
       "8      s9  TV Show  The Great British Baking Show  Andy Devonshire   \n",
       "9     s10    Movie                   The Starling   Theodore Melfi   \n",
       "\n",
       "                                                cast  \\\n",
       "7  Kofi Ghanaba, Oyafunmike Ogunlano, Alexandra D...   \n",
       "8  Mel Giedroyc, Sue Perkins, Mary Berry, Paul Ho...   \n",
       "9  Melissa McCarthy, Chris O'Dowd, Kevin Kline, T...   \n",
       "\n",
       "                                             country          date_added  \\\n",
       "7  United States, Ghana, Burkina Faso, United Kin...  September 24, 2021   \n",
       "8                                     United Kingdom  September 24, 2021   \n",
       "9                                      United States  September 24, 2021   \n",
       "\n",
       "   release_year rating   duration  \\\n",
       "7          1993  TV-MA    125 min   \n",
       "8          2021  TV-14  9 Seasons   \n",
       "9          2021  PG-13    104 min   \n",
       "\n",
       "                                          listed_in  \\\n",
       "7  Dramas, Independent Movies, International Movies   \n",
       "8                      British TV Shows, Reality TV   \n",
       "9                                  Comedies, Dramas   \n",
       "\n",
       "                                         description  \n",
       "7  On a photo shoot in Ghana, an American model s...  \n",
       "8  A talented batch of amateur bakers face off in...  \n",
       "9  A woman adjusting to life after a loss contend...  "
      ]
     },
     "execution_count": 4,
     "metadata": {},
     "output_type": "execute_result"
    }
   ],
   "source": [
    "df.dropna(subset=['country','director','cast','rating','duration'],inplace=True)\n",
    "df.isna().sum()\n",
    "df.head(3)"
   ]
  },
  {
   "cell_type": "markdown",
   "id": "cc50173e",
   "metadata": {
    "papermill": {
     "duration": 0.005334,
     "end_time": "2024-09-17T21:15:03.040661",
     "exception": false,
     "start_time": "2024-09-17T21:15:03.035327",
     "status": "completed"
    },
    "tags": []
   },
   "source": []
  },
  {
   "cell_type": "code",
   "execution_count": 5,
   "id": "f9ebde76",
   "metadata": {
    "execution": {
     "iopub.execute_input": "2024-09-17T21:15:03.054647Z",
     "iopub.status.busy": "2024-09-17T21:15:03.054175Z",
     "iopub.status.idle": "2024-09-17T21:15:03.094674Z",
     "shell.execute_reply": "2024-09-17T21:15:03.093161Z"
    },
    "papermill": {
     "duration": 0.051411,
     "end_time": "2024-09-17T21:15:03.097633",
     "exception": false,
     "start_time": "2024-09-17T21:15:03.046222",
     "status": "completed"
    },
    "tags": []
   },
   "outputs": [],
   "source": [
    "df.duplicated().sum()\n",
    "df.drop_duplicates(inplace=True)"
   ]
  },
  {
   "cell_type": "code",
   "execution_count": 6,
   "id": "248f7843",
   "metadata": {
    "execution": {
     "iopub.execute_input": "2024-09-17T21:15:03.111153Z",
     "iopub.status.busy": "2024-09-17T21:15:03.110731Z",
     "iopub.status.idle": "2024-09-17T21:15:03.129042Z",
     "shell.execute_reply": "2024-09-17T21:15:03.127709Z"
    },
    "papermill": {
     "duration": 0.027907,
     "end_time": "2024-09-17T21:15:03.131580",
     "exception": false,
     "start_time": "2024-09-17T21:15:03.103673",
     "status": "completed"
    },
    "tags": []
   },
   "outputs": [
    {
     "data": {
      "text/html": [
       "<div>\n",
       "<style scoped>\n",
       "    .dataframe tbody tr th:only-of-type {\n",
       "        vertical-align: middle;\n",
       "    }\n",
       "\n",
       "    .dataframe tbody tr th {\n",
       "        vertical-align: top;\n",
       "    }\n",
       "\n",
       "    .dataframe thead th {\n",
       "        text-align: right;\n",
       "    }\n",
       "</style>\n",
       "<table border=\"1\" class=\"dataframe\">\n",
       "  <thead>\n",
       "    <tr style=\"text-align: right;\">\n",
       "      <th></th>\n",
       "      <th>show_id</th>\n",
       "      <th>type</th>\n",
       "      <th>title</th>\n",
       "      <th>director</th>\n",
       "      <th>cast</th>\n",
       "      <th>country</th>\n",
       "      <th>date_added</th>\n",
       "      <th>release_year</th>\n",
       "      <th>rating</th>\n",
       "      <th>duration</th>\n",
       "      <th>listed_in</th>\n",
       "      <th>description</th>\n",
       "    </tr>\n",
       "  </thead>\n",
       "  <tbody>\n",
       "    <tr>\n",
       "      <th>7</th>\n",
       "      <td>s8</td>\n",
       "      <td>Movie</td>\n",
       "      <td>Sankofa</td>\n",
       "      <td>Haile Gerima</td>\n",
       "      <td>Kofi Ghanaba, Oyafunmike Ogunlano, Alexandra D...</td>\n",
       "      <td>United States, Ghana, Burkina Faso, United Kin...</td>\n",
       "      <td>September 24, 2021</td>\n",
       "      <td>1993</td>\n",
       "      <td>TV-MA</td>\n",
       "      <td>125 min</td>\n",
       "      <td>Dramas, Independent Movies, International Movies</td>\n",
       "      <td>On a photo shoot in Ghana, an American model s...</td>\n",
       "    </tr>\n",
       "    <tr>\n",
       "      <th>8</th>\n",
       "      <td>s9</td>\n",
       "      <td>TV Show</td>\n",
       "      <td>The Great British Baking Show</td>\n",
       "      <td>Andy Devonshire</td>\n",
       "      <td>Mel Giedroyc, Sue Perkins, Mary Berry, Paul Ho...</td>\n",
       "      <td>United Kingdom</td>\n",
       "      <td>September 24, 2021</td>\n",
       "      <td>2021</td>\n",
       "      <td>TV-14</td>\n",
       "      <td>9 Seasons</td>\n",
       "      <td>British TV Shows, Reality TV</td>\n",
       "      <td>A talented batch of amateur bakers face off in...</td>\n",
       "    </tr>\n",
       "    <tr>\n",
       "      <th>9</th>\n",
       "      <td>s10</td>\n",
       "      <td>Movie</td>\n",
       "      <td>The Starling</td>\n",
       "      <td>Theodore Melfi</td>\n",
       "      <td>Melissa McCarthy, Chris O'Dowd, Kevin Kline, T...</td>\n",
       "      <td>United States</td>\n",
       "      <td>September 24, 2021</td>\n",
       "      <td>2021</td>\n",
       "      <td>PG-13</td>\n",
       "      <td>104 min</td>\n",
       "      <td>Comedies, Dramas</td>\n",
       "      <td>A woman adjusting to life after a loss contend...</td>\n",
       "    </tr>\n",
       "  </tbody>\n",
       "</table>\n",
       "</div>"
      ],
      "text/plain": [
       "  show_id     type                          title         director  \\\n",
       "7      s8    Movie                        Sankofa     Haile Gerima   \n",
       "8      s9  TV Show  The Great British Baking Show  Andy Devonshire   \n",
       "9     s10    Movie                   The Starling   Theodore Melfi   \n",
       "\n",
       "                                                cast  \\\n",
       "7  Kofi Ghanaba, Oyafunmike Ogunlano, Alexandra D...   \n",
       "8  Mel Giedroyc, Sue Perkins, Mary Berry, Paul Ho...   \n",
       "9  Melissa McCarthy, Chris O'Dowd, Kevin Kline, T...   \n",
       "\n",
       "                                             country          date_added  \\\n",
       "7  United States, Ghana, Burkina Faso, United Kin...  September 24, 2021   \n",
       "8                                     United Kingdom  September 24, 2021   \n",
       "9                                      United States  September 24, 2021   \n",
       "\n",
       "   release_year rating   duration  \\\n",
       "7          1993  TV-MA    125 min   \n",
       "8          2021  TV-14  9 Seasons   \n",
       "9          2021  PG-13    104 min   \n",
       "\n",
       "                                          listed_in  \\\n",
       "7  Dramas, Independent Movies, International Movies   \n",
       "8                      British TV Shows, Reality TV   \n",
       "9                                  Comedies, Dramas   \n",
       "\n",
       "                                         description  \n",
       "7  On a photo shoot in Ghana, an American model s...  \n",
       "8  A talented batch of amateur bakers face off in...  \n",
       "9  A woman adjusting to life after a loss contend...  "
      ]
     },
     "execution_count": 6,
     "metadata": {},
     "output_type": "execute_result"
    }
   ],
   "source": [
    "df.head(3)"
   ]
  },
  {
   "cell_type": "code",
   "execution_count": 7,
   "id": "326abf96",
   "metadata": {
    "execution": {
     "iopub.execute_input": "2024-09-17T21:15:03.145561Z",
     "iopub.status.busy": "2024-09-17T21:15:03.145133Z",
     "iopub.status.idle": "2024-09-17T21:15:03.175453Z",
     "shell.execute_reply": "2024-09-17T21:15:03.174135Z"
    },
    "papermill": {
     "duration": 0.041078,
     "end_time": "2024-09-17T21:15:03.178643",
     "exception": false,
     "start_time": "2024-09-17T21:15:03.137565",
     "status": "completed"
    },
    "tags": []
   },
   "outputs": [
    {
     "data": {
      "text/plain": [
       "\"df['date_added']\\ndf['month_added']=df['date_added'].dt.month\\ndf['day_added']=df['date_added'].dt.day\""
      ]
     },
     "execution_count": 7,
     "metadata": {},
     "output_type": "execute_result"
    }
   ],
   "source": [
    "df['date_added']=df['date_added'].astype(str).str.strip()\n",
    "df['date_added']=pd.to_datetime(df['date_added'],errors='coerce')\n",
    "'''df['date_added']\n",
    "df['month_added']=df['date_added'].dt.month\n",
    "df['day_added']=df['date_added'].dt.day'''\n",
    "\n",
    "\n"
   ]
  },
  {
   "cell_type": "code",
   "execution_count": 8,
   "id": "62fc4c05",
   "metadata": {
    "execution": {
     "iopub.execute_input": "2024-09-17T21:15:03.193006Z",
     "iopub.status.busy": "2024-09-17T21:15:03.192525Z",
     "iopub.status.idle": "2024-09-17T21:15:03.203905Z",
     "shell.execute_reply": "2024-09-17T21:15:03.202243Z"
    },
    "papermill": {
     "duration": 0.021834,
     "end_time": "2024-09-17T21:15:03.206856",
     "exception": false,
     "start_time": "2024-09-17T21:15:03.185022",
     "status": "completed"
    },
    "tags": []
   },
   "outputs": [
    {
     "name": "stdout",
     "output_type": "stream",
     "text": [
      "type\n",
      "Movie      5185\n",
      "TV Show     147\n",
      "Name: type, dtype: int64\n",
      "[5185, 147]\n"
     ]
    }
   ],
   "source": [
    "x=df.groupby(['type'])['type'].count()\n",
    "'''plt.figure(figsize=(8,6))\n",
    "plt.bar(x.index,x.values,color=['red','blue'])\n",
    "plt.xlabel('Type')\n",
    "plt.ylabel('Count')\n",
    "plt.legend(['count of each type'],loc='upper right',shadow=True,fancybox=True)\n",
    "plt.title('Netflix movies and Tv shows distribution')\n",
    "plt.tight_layout()\n",
    "plt.show()'''\n",
    "print(x)\n",
    "ax=list(x)\n",
    "print(ax)\n"
   ]
  },
  {
   "cell_type": "code",
   "execution_count": null,
   "id": "258a3b55",
   "metadata": {
    "papermill": {
     "duration": 0.006177,
     "end_time": "2024-09-17T21:15:03.219369",
     "exception": false,
     "start_time": "2024-09-17T21:15:03.213192",
     "status": "completed"
    },
    "tags": []
   },
   "outputs": [],
   "source": []
  },
  {
   "cell_type": "markdown",
   "id": "72667f88",
   "metadata": {
    "papermill": {
     "duration": 0.005759,
     "end_time": "2024-09-17T21:15:03.231357",
     "exception": false,
     "start_time": "2024-09-17T21:15:03.225598",
     "status": "completed"
    },
    "tags": []
   },
   "source": []
  }
 ],
 "metadata": {
  "kaggle": {
   "accelerator": "none",
   "dataSources": [
    {
     "datasetId": 434238,
     "sourceId": 2654038,
     "sourceType": "datasetVersion"
    }
   ],
   "dockerImageVersionId": 30761,
   "isGpuEnabled": false,
   "isInternetEnabled": false,
   "language": "python",
   "sourceType": "notebook"
  },
  "kernelspec": {
   "display_name": "Python 3",
   "language": "python",
   "name": "python3"
  },
  "language_info": {
   "codemirror_mode": {
    "name": "ipython",
    "version": 3
   },
   "file_extension": ".py",
   "mimetype": "text/x-python",
   "name": "python",
   "nbconvert_exporter": "python",
   "pygments_lexer": "ipython3",
   "version": "3.10.14"
  },
  "papermill": {
   "default_parameters": {},
   "duration": 6.83495,
   "end_time": "2024-09-17T21:15:03.859772",
   "environment_variables": {},
   "exception": null,
   "input_path": "__notebook__.ipynb",
   "output_path": "__notebook__.ipynb",
   "parameters": {},
   "start_time": "2024-09-17T21:14:57.024822",
   "version": "2.6.0"
  }
 },
 "nbformat": 4,
 "nbformat_minor": 5
}
