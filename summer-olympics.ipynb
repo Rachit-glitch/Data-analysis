{
 "cells": [
  {
   "cell_type": "code",
   "execution_count": 1,
   "id": "5630ce7d",
   "metadata": {
    "_cell_guid": "b1076dfc-b9ad-4769-8c92-a6c4dae69d19",
    "_uuid": "8f2839f25d086af736a60e9eeb907d3b93b6e0e5",
    "execution": {
     "iopub.execute_input": "2024-09-11T21:59:26.414534Z",
     "iopub.status.busy": "2024-09-11T21:59:26.414045Z",
     "iopub.status.idle": "2024-09-11T21:59:28.650185Z",
     "shell.execute_reply": "2024-09-11T21:59:28.648739Z"
    },
    "papermill": {
     "duration": 2.247112,
     "end_time": "2024-09-11T21:59:28.652793",
     "exception": false,
     "start_time": "2024-09-11T21:59:26.405681",
     "status": "completed"
    },
    "tags": []
   },
   "outputs": [
    {
     "name": "stdout",
     "output_type": "stream",
     "text": [
      "/kaggle/input/summer-olympics-medals-1896-2024/olympics_dataset.csv\n"
     ]
    }
   ],
   "source": [
    "# This Python 3 environment comes with many helpful analytics libraries installed\n",
    "# It is defined by the kaggle/python Docker image: https://github.com/kaggle/docker-python\n",
    "# For example, here's several helpful packages to load\n",
    "\n",
    "import numpy as np # linear algebra\n",
    "import pandas as pd # data processing, CSV file I/O (e.g. pd.read_csv)\n",
    "from matplotlib import pyplot as plt\n",
    "import seaborn as sns\n",
    "\n",
    "# Input data files are available in the read-only \"../input/\" directory\n",
    "# For example, running this (by clicking run or pressing Shift+Enter) will list all files under the input directory\n",
    "\n",
    "import os\n",
    "for dirname, _, filenames in os.walk('/kaggle/input'):\n",
    "    for filename in filenames:\n",
    "        print(os.path.join(dirname, filename))\n",
    "\n",
    "# You can write up to 20GB to the current directory (/kaggle/working/) that gets preserved as output when you create a version using \"Save & Run All\" \n",
    "# You can also write temporary files to /kaggle/temp/, but they won't be saved outside of the current session"
   ]
  },
  {
   "cell_type": "code",
   "execution_count": 2,
   "id": "6b8b6bc2",
   "metadata": {
    "execution": {
     "iopub.execute_input": "2024-09-11T21:59:28.667978Z",
     "iopub.status.busy": "2024-09-11T21:59:28.667355Z",
     "iopub.status.idle": "2024-09-11T21:59:29.698459Z",
     "shell.execute_reply": "2024-09-11T21:59:29.697096Z"
    },
    "papermill": {
     "duration": 1.041889,
     "end_time": "2024-09-11T21:59:29.701491",
     "exception": false,
     "start_time": "2024-09-11T21:59:28.659602",
     "status": "completed"
    },
    "tags": []
   },
   "outputs": [],
   "source": [
    "df=pd.read_csv('/kaggle/input/summer-olympics-medals-1896-2024/olympics_dataset.csv')"
   ]
  },
  {
   "cell_type": "code",
   "execution_count": 3,
   "id": "333d7b4a",
   "metadata": {
    "execution": {
     "iopub.execute_input": "2024-09-11T21:59:29.716330Z",
     "iopub.status.busy": "2024-09-11T21:59:29.715863Z",
     "iopub.status.idle": "2024-09-11T21:59:29.751225Z",
     "shell.execute_reply": "2024-09-11T21:59:29.749768Z"
    },
    "papermill": {
     "duration": 0.045916,
     "end_time": "2024-09-11T21:59:29.754002",
     "exception": false,
     "start_time": "2024-09-11T21:59:29.708086",
     "status": "completed"
    },
    "tags": []
   },
   "outputs": [
    {
     "data": {
      "text/html": [
       "<div>\n",
       "<style scoped>\n",
       "    .dataframe tbody tr th:only-of-type {\n",
       "        vertical-align: middle;\n",
       "    }\n",
       "\n",
       "    .dataframe tbody tr th {\n",
       "        vertical-align: top;\n",
       "    }\n",
       "\n",
       "    .dataframe thead th {\n",
       "        text-align: right;\n",
       "    }\n",
       "</style>\n",
       "<table border=\"1\" class=\"dataframe\">\n",
       "  <thead>\n",
       "    <tr style=\"text-align: right;\">\n",
       "      <th></th>\n",
       "      <th>player_id</th>\n",
       "      <th>Name</th>\n",
       "      <th>Sex</th>\n",
       "      <th>Team</th>\n",
       "      <th>NOC</th>\n",
       "      <th>Year</th>\n",
       "      <th>Season</th>\n",
       "      <th>City</th>\n",
       "      <th>Sport</th>\n",
       "      <th>Event</th>\n",
       "      <th>Medal</th>\n",
       "    </tr>\n",
       "  </thead>\n",
       "  <tbody>\n",
       "    <tr>\n",
       "      <th>0</th>\n",
       "      <td>0</td>\n",
       "      <td>A Dijiang</td>\n",
       "      <td>M</td>\n",
       "      <td>China</td>\n",
       "      <td>CHN</td>\n",
       "      <td>1992</td>\n",
       "      <td>Summer</td>\n",
       "      <td>Barcelona</td>\n",
       "      <td>Basketball</td>\n",
       "      <td>Basketball Men's Basketball</td>\n",
       "      <td>No medal</td>\n",
       "    </tr>\n",
       "    <tr>\n",
       "      <th>1</th>\n",
       "      <td>1</td>\n",
       "      <td>A Lamusi</td>\n",
       "      <td>M</td>\n",
       "      <td>China</td>\n",
       "      <td>CHN</td>\n",
       "      <td>2012</td>\n",
       "      <td>Summer</td>\n",
       "      <td>London</td>\n",
       "      <td>Judo</td>\n",
       "      <td>Judo Men's Extra-Lightweight</td>\n",
       "      <td>No medal</td>\n",
       "    </tr>\n",
       "    <tr>\n",
       "      <th>2</th>\n",
       "      <td>2</td>\n",
       "      <td>Gunnar Aaby</td>\n",
       "      <td>M</td>\n",
       "      <td>Denmark</td>\n",
       "      <td>DEN</td>\n",
       "      <td>1920</td>\n",
       "      <td>Summer</td>\n",
       "      <td>Antwerpen</td>\n",
       "      <td>Football</td>\n",
       "      <td>Football Men's Football</td>\n",
       "      <td>No medal</td>\n",
       "    </tr>\n",
       "    <tr>\n",
       "      <th>3</th>\n",
       "      <td>3</td>\n",
       "      <td>Edgar Aabye</td>\n",
       "      <td>M</td>\n",
       "      <td>Denmark/Sweden</td>\n",
       "      <td>DEN</td>\n",
       "      <td>1900</td>\n",
       "      <td>Summer</td>\n",
       "      <td>Paris</td>\n",
       "      <td>Tug-Of-War</td>\n",
       "      <td>Tug-Of-War Men's Tug-Of-War</td>\n",
       "      <td>Gold</td>\n",
       "    </tr>\n",
       "    <tr>\n",
       "      <th>4</th>\n",
       "      <td>26</td>\n",
       "      <td>Cornelia (-strannood)</td>\n",
       "      <td>F</td>\n",
       "      <td>Netherlands</td>\n",
       "      <td>NED</td>\n",
       "      <td>1932</td>\n",
       "      <td>Summer</td>\n",
       "      <td>Los Angeles</td>\n",
       "      <td>Athletics</td>\n",
       "      <td>Athletics Women's 100 metres</td>\n",
       "      <td>No medal</td>\n",
       "    </tr>\n",
       "    <tr>\n",
       "      <th>...</th>\n",
       "      <td>...</td>\n",
       "      <td>...</td>\n",
       "      <td>...</td>\n",
       "      <td>...</td>\n",
       "      <td>...</td>\n",
       "      <td>...</td>\n",
       "      <td>...</td>\n",
       "      <td>...</td>\n",
       "      <td>...</td>\n",
       "      <td>...</td>\n",
       "      <td>...</td>\n",
       "    </tr>\n",
       "    <tr>\n",
       "      <th>252560</th>\n",
       "      <td>4986655</td>\n",
       "      <td>Sefora Ada</td>\n",
       "      <td>F</td>\n",
       "      <td>Equatorial Guinea</td>\n",
       "      <td>GEQ</td>\n",
       "      <td>2024</td>\n",
       "      <td>Summer</td>\n",
       "      <td>Paris</td>\n",
       "      <td>Athletics</td>\n",
       "      <td>Women's 100m</td>\n",
       "      <td>No medal</td>\n",
       "    </tr>\n",
       "    <tr>\n",
       "      <th>252561</th>\n",
       "      <td>9460001</td>\n",
       "      <td>Emanuela Liuzzi</td>\n",
       "      <td>F</td>\n",
       "      <td>Italy</td>\n",
       "      <td>ITA</td>\n",
       "      <td>2024</td>\n",
       "      <td>Summer</td>\n",
       "      <td>Paris</td>\n",
       "      <td>Wrestling</td>\n",
       "      <td>Women's Freestyle 50kg</td>\n",
       "      <td>No medal</td>\n",
       "    </tr>\n",
       "    <tr>\n",
       "      <th>252562</th>\n",
       "      <td>1972077</td>\n",
       "      <td>Isayah Boers</td>\n",
       "      <td>M</td>\n",
       "      <td>Netherlands</td>\n",
       "      <td>NED</td>\n",
       "      <td>2024</td>\n",
       "      <td>Summer</td>\n",
       "      <td>Paris</td>\n",
       "      <td>Athletics</td>\n",
       "      <td>4 x 400m Relay Mixed</td>\n",
       "      <td>Gold</td>\n",
       "    </tr>\n",
       "    <tr>\n",
       "      <th>252563</th>\n",
       "      <td>1899865</td>\n",
       "      <td>Kevin Staut</td>\n",
       "      <td>M</td>\n",
       "      <td>France</td>\n",
       "      <td>FRA</td>\n",
       "      <td>2024</td>\n",
       "      <td>Summer</td>\n",
       "      <td>Paris</td>\n",
       "      <td>Equestrian</td>\n",
       "      <td>Jumping Team</td>\n",
       "      <td>Bronze</td>\n",
       "    </tr>\n",
       "    <tr>\n",
       "      <th>252564</th>\n",
       "      <td>1924402</td>\n",
       "      <td>Charlie Carvell</td>\n",
       "      <td>M</td>\n",
       "      <td>Great Britain</td>\n",
       "      <td>GBR</td>\n",
       "      <td>2024</td>\n",
       "      <td>Summer</td>\n",
       "      <td>Paris</td>\n",
       "      <td>Athletics</td>\n",
       "      <td>Men's 4 x 400m Relay</td>\n",
       "      <td>Bronze</td>\n",
       "    </tr>\n",
       "  </tbody>\n",
       "</table>\n",
       "<p>252565 rows × 11 columns</p>\n",
       "</div>"
      ],
      "text/plain": [
       "        player_id                   Name Sex               Team  NOC  Year  \\\n",
       "0               0              A Dijiang   M              China  CHN  1992   \n",
       "1               1               A Lamusi   M              China  CHN  2012   \n",
       "2               2            Gunnar Aaby   M            Denmark  DEN  1920   \n",
       "3               3            Edgar Aabye   M     Denmark/Sweden  DEN  1900   \n",
       "4              26  Cornelia (-strannood)   F        Netherlands  NED  1932   \n",
       "...           ...                    ...  ..                ...  ...   ...   \n",
       "252560    4986655             Sefora Ada   F  Equatorial Guinea  GEQ  2024   \n",
       "252561    9460001        Emanuela Liuzzi   F              Italy  ITA  2024   \n",
       "252562    1972077           Isayah Boers   M        Netherlands  NED  2024   \n",
       "252563    1899865            Kevin Staut   M             France  FRA  2024   \n",
       "252564    1924402        Charlie Carvell   M      Great Britain  GBR  2024   \n",
       "\n",
       "        Season         City       Sport                         Event  \\\n",
       "0       Summer    Barcelona  Basketball   Basketball Men's Basketball   \n",
       "1       Summer       London        Judo  Judo Men's Extra-Lightweight   \n",
       "2       Summer    Antwerpen    Football       Football Men's Football   \n",
       "3       Summer        Paris  Tug-Of-War   Tug-Of-War Men's Tug-Of-War   \n",
       "4       Summer  Los Angeles   Athletics  Athletics Women's 100 metres   \n",
       "...        ...          ...         ...                           ...   \n",
       "252560  Summer        Paris   Athletics                  Women's 100m   \n",
       "252561  Summer        Paris   Wrestling        Women's Freestyle 50kg   \n",
       "252562  Summer        Paris   Athletics          4 x 400m Relay Mixed   \n",
       "252563  Summer        Paris  Equestrian                  Jumping Team   \n",
       "252564  Summer        Paris   Athletics          Men's 4 x 400m Relay   \n",
       "\n",
       "           Medal  \n",
       "0       No medal  \n",
       "1       No medal  \n",
       "2       No medal  \n",
       "3           Gold  \n",
       "4       No medal  \n",
       "...          ...  \n",
       "252560  No medal  \n",
       "252561  No medal  \n",
       "252562      Gold  \n",
       "252563    Bronze  \n",
       "252564    Bronze  \n",
       "\n",
       "[252565 rows x 11 columns]"
      ]
     },
     "execution_count": 3,
     "metadata": {},
     "output_type": "execute_result"
    }
   ],
   "source": [
    "df"
   ]
  },
  {
   "cell_type": "code",
   "execution_count": 4,
   "id": "25007a09",
   "metadata": {
    "execution": {
     "iopub.execute_input": "2024-09-11T21:59:29.769723Z",
     "iopub.status.busy": "2024-09-11T21:59:29.769223Z",
     "iopub.status.idle": "2024-09-11T21:59:30.035152Z",
     "shell.execute_reply": "2024-09-11T21:59:30.033608Z"
    },
    "papermill": {
     "duration": 0.277017,
     "end_time": "2024-09-11T21:59:30.037949",
     "exception": false,
     "start_time": "2024-09-11T21:59:29.760932",
     "status": "completed"
    },
    "tags": []
   },
   "outputs": [
    {
     "name": "stdout",
     "output_type": "stream",
     "text": [
      "<class 'pandas.core.frame.DataFrame'>\n",
      "RangeIndex: 252565 entries, 0 to 252564\n",
      "Data columns (total 11 columns):\n",
      " #   Column     Non-Null Count   Dtype \n",
      "---  ------     --------------   ----- \n",
      " 0   player_id  252565 non-null  int64 \n",
      " 1   Name       252565 non-null  object\n",
      " 2   Sex        252565 non-null  object\n",
      " 3   Team       252565 non-null  object\n",
      " 4   NOC        252565 non-null  object\n",
      " 5   Year       252565 non-null  int64 \n",
      " 6   Season     252565 non-null  object\n",
      " 7   City       252565 non-null  object\n",
      " 8   Sport      252565 non-null  object\n",
      " 9   Event      252565 non-null  object\n",
      " 10  Medal      252565 non-null  object\n",
      "dtypes: int64(2), object(9)\n",
      "memory usage: 21.2+ MB\n"
     ]
    }
   ],
   "source": [
    "df.info()"
   ]
  },
  {
   "cell_type": "code",
   "execution_count": 5,
   "id": "eee5b489",
   "metadata": {
    "execution": {
     "iopub.execute_input": "2024-09-11T21:59:30.053995Z",
     "iopub.status.busy": "2024-09-11T21:59:30.053563Z",
     "iopub.status.idle": "2024-09-11T21:59:30.302767Z",
     "shell.execute_reply": "2024-09-11T21:59:30.301534Z"
    },
    "papermill": {
     "duration": 0.260241,
     "end_time": "2024-09-11T21:59:30.305353",
     "exception": false,
     "start_time": "2024-09-11T21:59:30.045112",
     "status": "completed"
    },
    "tags": []
   },
   "outputs": [
    {
     "data": {
      "text/plain": [
       "player_id    0\n",
       "Name         0\n",
       "Sex          0\n",
       "Team         0\n",
       "NOC          0\n",
       "Year         0\n",
       "Season       0\n",
       "City         0\n",
       "Sport        0\n",
       "Event        0\n",
       "Medal        0\n",
       "dtype: int64"
      ]
     },
     "execution_count": 5,
     "metadata": {},
     "output_type": "execute_result"
    }
   ],
   "source": [
    "df.isna().sum()"
   ]
  },
  {
   "cell_type": "code",
   "execution_count": 6,
   "id": "b9caccf9",
   "metadata": {
    "execution": {
     "iopub.execute_input": "2024-09-11T21:59:30.321771Z",
     "iopub.status.busy": "2024-09-11T21:59:30.321307Z",
     "iopub.status.idle": "2024-09-11T21:59:30.328831Z",
     "shell.execute_reply": "2024-09-11T21:59:30.327725Z"
    },
    "papermill": {
     "duration": 0.018842,
     "end_time": "2024-09-11T21:59:30.331510",
     "exception": false,
     "start_time": "2024-09-11T21:59:30.312668",
     "status": "completed"
    },
    "tags": []
   },
   "outputs": [
    {
     "data": {
      "text/plain": [
       "['player_id',\n",
       " 'Name',\n",
       " 'Sex',\n",
       " 'Team',\n",
       " 'NOC',\n",
       " 'Year',\n",
       " 'Season',\n",
       " 'City',\n",
       " 'Sport',\n",
       " 'Event',\n",
       " 'Medal']"
      ]
     },
     "execution_count": 6,
     "metadata": {},
     "output_type": "execute_result"
    }
   ],
   "source": [
    "df.columns.to_list()"
   ]
  },
  {
   "cell_type": "code",
   "execution_count": 7,
   "id": "0ea00781",
   "metadata": {
    "execution": {
     "iopub.execute_input": "2024-09-11T21:59:30.348638Z",
     "iopub.status.busy": "2024-09-11T21:59:30.348096Z",
     "iopub.status.idle": "2024-09-11T21:59:30.402329Z",
     "shell.execute_reply": "2024-09-11T21:59:30.401121Z"
    },
    "papermill": {
     "duration": 0.065783,
     "end_time": "2024-09-11T21:59:30.405017",
     "exception": false,
     "start_time": "2024-09-11T21:59:30.339234",
     "status": "completed"
    },
    "tags": []
   },
   "outputs": [
    {
     "data": {
      "text/plain": [
       "City\n",
       "Tokyo             22823\n",
       "London            22426\n",
       "Paris             22061\n",
       "Athina            15556\n",
       "Sydney            13821\n",
       "Atlanta           13780\n",
       "Rio de Janeiro    13688\n",
       "Beijing           13602\n",
       "Barcelona         12977\n",
       "Los Angeles       12423\n",
       "Seoul             12037\n",
       "Munich            10304\n",
       "Montreal           8641\n",
       "Mexico City        8588\n",
       "Helsinki           8270\n",
       "Roma               8119\n",
       "Moskva             7191\n",
       "Berlin             6506\n",
       "Amsterdam          4992\n",
       "Melbourne          4829\n",
       "Stockholm          4338\n",
       "Antwerpen          4292\n",
       "St. Louis          1301\n",
       "Name: count, dtype: int64"
      ]
     },
     "execution_count": 7,
     "metadata": {},
     "output_type": "execute_result"
    }
   ],
   "source": [
    "df.City.value_counts()"
   ]
  },
  {
   "cell_type": "code",
   "execution_count": 8,
   "id": "8bcfa94f",
   "metadata": {
    "execution": {
     "iopub.execute_input": "2024-09-11T21:59:30.422514Z",
     "iopub.status.busy": "2024-09-11T21:59:30.421422Z",
     "iopub.status.idle": "2024-09-11T21:59:30.476070Z",
     "shell.execute_reply": "2024-09-11T21:59:30.474876Z"
    },
    "papermill": {
     "duration": 0.066165,
     "end_time": "2024-09-11T21:59:30.478754",
     "exception": false,
     "start_time": "2024-09-11T21:59:30.412589",
     "status": "completed"
    },
    "tags": []
   },
   "outputs": [
    {
     "data": {
      "text/plain": [
       "Sport\n",
       "Athletics                              43294\n",
       "Gymnastics                             26707\n",
       "Swimming                               26416\n",
       "Shooting                               12580\n",
       "Rowing                                 11625\n",
       "                                       ...  \n",
       "Cycling Road, Cycling Mountain Bike        4\n",
       "Basque Pelota                              2\n",
       "Cycling Road, Triathlon                    2\n",
       "Aeronautics                                1\n",
       "3x3 Basketball, Basketball                 1\n",
       "Name: count, Length: 76, dtype: int64"
      ]
     },
     "execution_count": 8,
     "metadata": {},
     "output_type": "execute_result"
    }
   ],
   "source": [
    "df.Sport.value_counts(ascending=False)"
   ]
  },
  {
   "cell_type": "code",
   "execution_count": 9,
   "id": "3ae8af91",
   "metadata": {
    "execution": {
     "iopub.execute_input": "2024-09-11T21:59:30.496153Z",
     "iopub.status.busy": "2024-09-11T21:59:30.495671Z",
     "iopub.status.idle": "2024-09-11T21:59:30.549830Z",
     "shell.execute_reply": "2024-09-11T21:59:30.548552Z"
    },
    "papermill": {
     "duration": 0.065952,
     "end_time": "2024-09-11T21:59:30.552513",
     "exception": false,
     "start_time": "2024-09-11T21:59:30.486561",
     "status": "completed"
    },
    "tags": []
   },
   "outputs": [
    {
     "data": {
      "text/plain": [
       "'Tokyo'"
      ]
     },
     "execution_count": 9,
     "metadata": {},
     "output_type": "execute_result"
    }
   ],
   "source": [
    "df.City.value_counts().idxmax()"
   ]
  },
  {
   "cell_type": "code",
   "execution_count": 10,
   "id": "fba6a4d2",
   "metadata": {
    "execution": {
     "iopub.execute_input": "2024-09-11T21:59:30.570678Z",
     "iopub.status.busy": "2024-09-11T21:59:30.569524Z",
     "iopub.status.idle": "2024-09-11T21:59:30.621530Z",
     "shell.execute_reply": "2024-09-11T21:59:30.620419Z"
    },
    "papermill": {
     "duration": 0.063998,
     "end_time": "2024-09-11T21:59:30.624280",
     "exception": false,
     "start_time": "2024-09-11T21:59:30.560282",
     "status": "completed"
    },
    "tags": []
   },
   "outputs": [
    {
     "data": {
      "text/plain": [
       "'Aeronautics'"
      ]
     },
     "execution_count": 10,
     "metadata": {},
     "output_type": "execute_result"
    }
   ],
   "source": [
    "df.Sport.value_counts().idxmin()"
   ]
  },
  {
   "cell_type": "code",
   "execution_count": 11,
   "id": "a34aa5da",
   "metadata": {
    "execution": {
     "iopub.execute_input": "2024-09-11T21:59:30.642738Z",
     "iopub.status.busy": "2024-09-11T21:59:30.642251Z",
     "iopub.status.idle": "2024-09-11T21:59:30.701359Z",
     "shell.execute_reply": "2024-09-11T21:59:30.699759Z"
    },
    "papermill": {
     "duration": 0.071431,
     "end_time": "2024-09-11T21:59:30.704216",
     "exception": false,
     "start_time": "2024-09-11T21:59:30.632785",
     "status": "completed"
    },
    "tags": []
   },
   "outputs": [
    {
     "data": {
      "text/plain": [
       "'Tokyo'"
      ]
     },
     "execution_count": 11,
     "metadata": {},
     "output_type": "execute_result"
    }
   ],
   "source": [
    "df['City'][df['Medal']=='Gold'].max()"
   ]
  },
  {
   "cell_type": "code",
   "execution_count": 12,
   "id": "e2e1eedb",
   "metadata": {
    "execution": {
     "iopub.execute_input": "2024-09-11T21:59:30.722442Z",
     "iopub.status.busy": "2024-09-11T21:59:30.721980Z",
     "iopub.status.idle": "2024-09-11T21:59:30.886756Z",
     "shell.execute_reply": "2024-09-11T21:59:30.885622Z"
    },
    "papermill": {
     "duration": 0.177001,
     "end_time": "2024-09-11T21:59:30.889494",
     "exception": false,
     "start_time": "2024-09-11T21:59:30.712493",
     "status": "completed"
    },
    "tags": []
   },
   "outputs": [
    {
     "data": {
      "text/html": [
       "<div>\n",
       "<style scoped>\n",
       "    .dataframe tbody tr th:only-of-type {\n",
       "        vertical-align: middle;\n",
       "    }\n",
       "\n",
       "    .dataframe tbody tr th {\n",
       "        vertical-align: top;\n",
       "    }\n",
       "\n",
       "    .dataframe thead th {\n",
       "        text-align: right;\n",
       "    }\n",
       "</style>\n",
       "<table border=\"1\" class=\"dataframe\">\n",
       "  <thead>\n",
       "    <tr style=\"text-align: right;\">\n",
       "      <th></th>\n",
       "      <th>player_id</th>\n",
       "      <th>Name</th>\n",
       "      <th>Sex</th>\n",
       "      <th>Team</th>\n",
       "      <th>NOC</th>\n",
       "      <th>Year</th>\n",
       "      <th>Season</th>\n",
       "      <th>City</th>\n",
       "      <th>Sport</th>\n",
       "      <th>Event</th>\n",
       "      <th>Medal</th>\n",
       "    </tr>\n",
       "  </thead>\n",
       "  <tbody>\n",
       "    <tr>\n",
       "      <th>245261</th>\n",
       "      <td>1919973</td>\n",
       "      <td>Liguo Cao</td>\n",
       "      <td>M</td>\n",
       "      <td>China</td>\n",
       "      <td>CHN</td>\n",
       "      <td>2024</td>\n",
       "      <td>Summer</td>\n",
       "      <td>Paris</td>\n",
       "      <td>Wrestling</td>\n",
       "      <td>Men's Greco-Roman 60kg</td>\n",
       "      <td>Silver</td>\n",
       "    </tr>\n",
       "    <tr>\n",
       "      <th>245262</th>\n",
       "      <td>1919979</td>\n",
       "      <td>Haitao Qian</td>\n",
       "      <td>M</td>\n",
       "      <td>China</td>\n",
       "      <td>CHN</td>\n",
       "      <td>2024</td>\n",
       "      <td>Summer</td>\n",
       "      <td>Paris</td>\n",
       "      <td>Wrestling</td>\n",
       "      <td>Men's Greco-Roman 87kg</td>\n",
       "      <td>No medal</td>\n",
       "    </tr>\n",
       "    <tr>\n",
       "      <th>245263</th>\n",
       "      <td>1919983</td>\n",
       "      <td>Lingzhe Meng</td>\n",
       "      <td>M</td>\n",
       "      <td>China</td>\n",
       "      <td>CHN</td>\n",
       "      <td>2024</td>\n",
       "      <td>Summer</td>\n",
       "      <td>Paris</td>\n",
       "      <td>Wrestling</td>\n",
       "      <td>Men's Greco-Roman 130kg</td>\n",
       "      <td>Bronze</td>\n",
       "    </tr>\n",
       "    <tr>\n",
       "      <th>245264</th>\n",
       "      <td>1919986</td>\n",
       "      <td>Wanhao Zou</td>\n",
       "      <td>M</td>\n",
       "      <td>China</td>\n",
       "      <td>CHN</td>\n",
       "      <td>2024</td>\n",
       "      <td>Summer</td>\n",
       "      <td>Paris</td>\n",
       "      <td>Wrestling</td>\n",
       "      <td>Men's Freestyle 57kg</td>\n",
       "      <td>No medal</td>\n",
       "    </tr>\n",
       "    <tr>\n",
       "      <th>245265</th>\n",
       "      <td>1919992</td>\n",
       "      <td>Feng Lu</td>\n",
       "      <td>M</td>\n",
       "      <td>China</td>\n",
       "      <td>CHN</td>\n",
       "      <td>2024</td>\n",
       "      <td>Summer</td>\n",
       "      <td>Paris</td>\n",
       "      <td>Wrestling</td>\n",
       "      <td>Men's Freestyle 74kg</td>\n",
       "      <td>No medal</td>\n",
       "    </tr>\n",
       "    <tr>\n",
       "      <th>245266</th>\n",
       "      <td>1919996</td>\n",
       "      <td>Awusayiman Habila</td>\n",
       "      <td>M</td>\n",
       "      <td>China</td>\n",
       "      <td>CHN</td>\n",
       "      <td>2024</td>\n",
       "      <td>Summer</td>\n",
       "      <td>Paris</td>\n",
       "      <td>Wrestling</td>\n",
       "      <td>Men's Freestyle 97kg</td>\n",
       "      <td>No medal</td>\n",
       "    </tr>\n",
       "    <tr>\n",
       "      <th>245267</th>\n",
       "      <td>1919998</td>\n",
       "      <td>Zhiwei Deng</td>\n",
       "      <td>M</td>\n",
       "      <td>China</td>\n",
       "      <td>CHN</td>\n",
       "      <td>2024</td>\n",
       "      <td>Summer</td>\n",
       "      <td>Paris</td>\n",
       "      <td>Wrestling</td>\n",
       "      <td>Men's Freestyle 125kg</td>\n",
       "      <td>No medal</td>\n",
       "    </tr>\n",
       "    <tr>\n",
       "      <th>245268</th>\n",
       "      <td>1920000</td>\n",
       "      <td>Ziqi Feng</td>\n",
       "      <td>F</td>\n",
       "      <td>China</td>\n",
       "      <td>CHN</td>\n",
       "      <td>2024</td>\n",
       "      <td>Summer</td>\n",
       "      <td>Paris</td>\n",
       "      <td>Wrestling</td>\n",
       "      <td>Women's Freestyle 50kg</td>\n",
       "      <td>Bronze</td>\n",
       "    </tr>\n",
       "    <tr>\n",
       "      <th>245269</th>\n",
       "      <td>1920006</td>\n",
       "      <td>Qianyu Pang</td>\n",
       "      <td>F</td>\n",
       "      <td>China</td>\n",
       "      <td>CHN</td>\n",
       "      <td>2024</td>\n",
       "      <td>Summer</td>\n",
       "      <td>Paris</td>\n",
       "      <td>Wrestling</td>\n",
       "      <td>Women's Freestyle 53kg</td>\n",
       "      <td>Bronze</td>\n",
       "    </tr>\n",
       "    <tr>\n",
       "      <th>245270</th>\n",
       "      <td>1920010</td>\n",
       "      <td>Kexin Hong</td>\n",
       "      <td>F</td>\n",
       "      <td>China</td>\n",
       "      <td>CHN</td>\n",
       "      <td>2024</td>\n",
       "      <td>Summer</td>\n",
       "      <td>Paris</td>\n",
       "      <td>Wrestling</td>\n",
       "      <td>Women's Freestyle 57kg</td>\n",
       "      <td>Bronze</td>\n",
       "    </tr>\n",
       "    <tr>\n",
       "      <th>245271</th>\n",
       "      <td>1920016</td>\n",
       "      <td>Feng Zhou</td>\n",
       "      <td>F</td>\n",
       "      <td>China</td>\n",
       "      <td>CHN</td>\n",
       "      <td>2024</td>\n",
       "      <td>Summer</td>\n",
       "      <td>Paris</td>\n",
       "      <td>Wrestling</td>\n",
       "      <td>Women's Freestyle 68kg</td>\n",
       "      <td>No medal</td>\n",
       "    </tr>\n",
       "    <tr>\n",
       "      <th>245272</th>\n",
       "      <td>1920021</td>\n",
       "      <td>Juan Wang</td>\n",
       "      <td>F</td>\n",
       "      <td>China</td>\n",
       "      <td>CHN</td>\n",
       "      <td>2024</td>\n",
       "      <td>Summer</td>\n",
       "      <td>Paris</td>\n",
       "      <td>Wrestling</td>\n",
       "      <td>Women's Freestyle 76kg</td>\n",
       "      <td>No medal</td>\n",
       "    </tr>\n",
       "  </tbody>\n",
       "</table>\n",
       "</div>"
      ],
      "text/plain": [
       "        player_id               Name Sex   Team  NOC  Year  Season   City  \\\n",
       "245261    1919973          Liguo Cao   M  China  CHN  2024  Summer  Paris   \n",
       "245262    1919979        Haitao Qian   M  China  CHN  2024  Summer  Paris   \n",
       "245263    1919983       Lingzhe Meng   M  China  CHN  2024  Summer  Paris   \n",
       "245264    1919986         Wanhao Zou   M  China  CHN  2024  Summer  Paris   \n",
       "245265    1919992            Feng Lu   M  China  CHN  2024  Summer  Paris   \n",
       "245266    1919996  Awusayiman Habila   M  China  CHN  2024  Summer  Paris   \n",
       "245267    1919998        Zhiwei Deng   M  China  CHN  2024  Summer  Paris   \n",
       "245268    1920000          Ziqi Feng   F  China  CHN  2024  Summer  Paris   \n",
       "245269    1920006        Qianyu Pang   F  China  CHN  2024  Summer  Paris   \n",
       "245270    1920010         Kexin Hong   F  China  CHN  2024  Summer  Paris   \n",
       "245271    1920016          Feng Zhou   F  China  CHN  2024  Summer  Paris   \n",
       "245272    1920021          Juan Wang   F  China  CHN  2024  Summer  Paris   \n",
       "\n",
       "            Sport                    Event     Medal  \n",
       "245261  Wrestling   Men's Greco-Roman 60kg    Silver  \n",
       "245262  Wrestling   Men's Greco-Roman 87kg  No medal  \n",
       "245263  Wrestling  Men's Greco-Roman 130kg    Bronze  \n",
       "245264  Wrestling     Men's Freestyle 57kg  No medal  \n",
       "245265  Wrestling     Men's Freestyle 74kg  No medal  \n",
       "245266  Wrestling     Men's Freestyle 97kg  No medal  \n",
       "245267  Wrestling    Men's Freestyle 125kg  No medal  \n",
       "245268  Wrestling   Women's Freestyle 50kg    Bronze  \n",
       "245269  Wrestling   Women's Freestyle 53kg    Bronze  \n",
       "245270  Wrestling   Women's Freestyle 57kg    Bronze  \n",
       "245271  Wrestling   Women's Freestyle 68kg  No medal  \n",
       "245272  Wrestling   Women's Freestyle 76kg  No medal  "
      ]
     },
     "execution_count": 12,
     "metadata": {},
     "output_type": "execute_result"
    }
   ],
   "source": [
    "CHN=df[(df['NOC']=='CHN') & (df['Sport']=='Wrestling') & (df['City']=='Paris')] \n",
    "\n",
    "CHN"
   ]
  },
  {
   "cell_type": "code",
   "execution_count": 13,
   "id": "a21b64e4",
   "metadata": {
    "execution": {
     "iopub.execute_input": "2024-09-11T21:59:30.908486Z",
     "iopub.status.busy": "2024-09-11T21:59:30.908069Z",
     "iopub.status.idle": "2024-09-11T21:59:30.917671Z",
     "shell.execute_reply": "2024-09-11T21:59:30.916439Z"
    },
    "papermill": {
     "duration": 0.022363,
     "end_time": "2024-09-11T21:59:30.920337",
     "exception": false,
     "start_time": "2024-09-11T21:59:30.897974",
     "status": "completed"
    },
    "tags": []
   },
   "outputs": [
    {
     "data": {
      "text/plain": [
       "Medal\n",
       "No medal    7\n",
       "Bronze      4\n",
       "Silver      1\n",
       "Name: count, dtype: int64"
      ]
     },
     "execution_count": 13,
     "metadata": {},
     "output_type": "execute_result"
    }
   ],
   "source": [
    "CHN.Medal.value_counts()"
   ]
  },
  {
   "cell_type": "code",
   "execution_count": 14,
   "id": "6f2209b3",
   "metadata": {
    "execution": {
     "iopub.execute_input": "2024-09-11T21:59:30.940113Z",
     "iopub.status.busy": "2024-09-11T21:59:30.939697Z",
     "iopub.status.idle": "2024-09-11T21:59:30.960689Z",
     "shell.execute_reply": "2024-09-11T21:59:30.959500Z"
    },
    "papermill": {
     "duration": 0.03387,
     "end_time": "2024-09-11T21:59:30.963277",
     "exception": false,
     "start_time": "2024-09-11T21:59:30.929407",
     "status": "completed"
    },
    "tags": []
   },
   "outputs": [
    {
     "data": {
      "text/html": [
       "<div>\n",
       "<style scoped>\n",
       "    .dataframe tbody tr th:only-of-type {\n",
       "        vertical-align: middle;\n",
       "    }\n",
       "\n",
       "    .dataframe tbody tr th {\n",
       "        vertical-align: top;\n",
       "    }\n",
       "\n",
       "    .dataframe thead th {\n",
       "        text-align: right;\n",
       "    }\n",
       "</style>\n",
       "<table border=\"1\" class=\"dataframe\">\n",
       "  <thead>\n",
       "    <tr style=\"text-align: right;\">\n",
       "      <th></th>\n",
       "      <th>player_id</th>\n",
       "      <th>Name</th>\n",
       "      <th>Sex</th>\n",
       "      <th>Team</th>\n",
       "      <th>NOC</th>\n",
       "      <th>Year</th>\n",
       "      <th>Season</th>\n",
       "      <th>City</th>\n",
       "      <th>Sport</th>\n",
       "      <th>Event</th>\n",
       "      <th>Medal</th>\n",
       "    </tr>\n",
       "  </thead>\n",
       "  <tbody>\n",
       "    <tr>\n",
       "      <th>0</th>\n",
       "      <td>0</td>\n",
       "      <td>A Dijiang</td>\n",
       "      <td>M</td>\n",
       "      <td>China</td>\n",
       "      <td>CHN</td>\n",
       "      <td>1992</td>\n",
       "      <td>Summer</td>\n",
       "      <td>Barcelona</td>\n",
       "      <td>Basketball</td>\n",
       "      <td>Basketball Men's Basketball</td>\n",
       "      <td>No medal</td>\n",
       "    </tr>\n",
       "    <tr>\n",
       "      <th>1</th>\n",
       "      <td>1</td>\n",
       "      <td>A Lamusi</td>\n",
       "      <td>M</td>\n",
       "      <td>China</td>\n",
       "      <td>CHN</td>\n",
       "      <td>2012</td>\n",
       "      <td>Summer</td>\n",
       "      <td>London</td>\n",
       "      <td>Judo</td>\n",
       "      <td>Judo Men's Extra-Lightweight</td>\n",
       "      <td>No medal</td>\n",
       "    </tr>\n",
       "    <tr>\n",
       "      <th>2</th>\n",
       "      <td>2</td>\n",
       "      <td>Gunnar Aaby</td>\n",
       "      <td>M</td>\n",
       "      <td>Denmark</td>\n",
       "      <td>DEN</td>\n",
       "      <td>1920</td>\n",
       "      <td>Summer</td>\n",
       "      <td>Antwerpen</td>\n",
       "      <td>Football</td>\n",
       "      <td>Football Men's Football</td>\n",
       "      <td>No medal</td>\n",
       "    </tr>\n",
       "    <tr>\n",
       "      <th>3</th>\n",
       "      <td>3</td>\n",
       "      <td>Edgar Aabye</td>\n",
       "      <td>M</td>\n",
       "      <td>Denmark/Sweden</td>\n",
       "      <td>DEN</td>\n",
       "      <td>1900</td>\n",
       "      <td>Summer</td>\n",
       "      <td>Paris</td>\n",
       "      <td>Tug-Of-War</td>\n",
       "      <td>Tug-Of-War Men's Tug-Of-War</td>\n",
       "      <td>Gold</td>\n",
       "    </tr>\n",
       "    <tr>\n",
       "      <th>4</th>\n",
       "      <td>26</td>\n",
       "      <td>Cornelia (-strannood)</td>\n",
       "      <td>F</td>\n",
       "      <td>Netherlands</td>\n",
       "      <td>NED</td>\n",
       "      <td>1932</td>\n",
       "      <td>Summer</td>\n",
       "      <td>Los Angeles</td>\n",
       "      <td>Athletics</td>\n",
       "      <td>Athletics Women's 100 metres</td>\n",
       "      <td>No medal</td>\n",
       "    </tr>\n",
       "    <tr>\n",
       "      <th>...</th>\n",
       "      <td>...</td>\n",
       "      <td>...</td>\n",
       "      <td>...</td>\n",
       "      <td>...</td>\n",
       "      <td>...</td>\n",
       "      <td>...</td>\n",
       "      <td>...</td>\n",
       "      <td>...</td>\n",
       "      <td>...</td>\n",
       "      <td>...</td>\n",
       "      <td>...</td>\n",
       "    </tr>\n",
       "    <tr>\n",
       "      <th>252560</th>\n",
       "      <td>4986655</td>\n",
       "      <td>Sefora Ada</td>\n",
       "      <td>F</td>\n",
       "      <td>Equatorial Guinea</td>\n",
       "      <td>GEQ</td>\n",
       "      <td>2024</td>\n",
       "      <td>Summer</td>\n",
       "      <td>Paris</td>\n",
       "      <td>Athletics</td>\n",
       "      <td>Women's 100m</td>\n",
       "      <td>No medal</td>\n",
       "    </tr>\n",
       "    <tr>\n",
       "      <th>252561</th>\n",
       "      <td>9460001</td>\n",
       "      <td>Emanuela Liuzzi</td>\n",
       "      <td>F</td>\n",
       "      <td>Italy</td>\n",
       "      <td>ITA</td>\n",
       "      <td>2024</td>\n",
       "      <td>Summer</td>\n",
       "      <td>Paris</td>\n",
       "      <td>Wrestling</td>\n",
       "      <td>Women's Freestyle 50kg</td>\n",
       "      <td>No medal</td>\n",
       "    </tr>\n",
       "    <tr>\n",
       "      <th>252562</th>\n",
       "      <td>1972077</td>\n",
       "      <td>Isayah Boers</td>\n",
       "      <td>M</td>\n",
       "      <td>Netherlands</td>\n",
       "      <td>NED</td>\n",
       "      <td>2024</td>\n",
       "      <td>Summer</td>\n",
       "      <td>Paris</td>\n",
       "      <td>Athletics</td>\n",
       "      <td>4 x 400m Relay Mixed</td>\n",
       "      <td>Gold</td>\n",
       "    </tr>\n",
       "    <tr>\n",
       "      <th>252563</th>\n",
       "      <td>1899865</td>\n",
       "      <td>Kevin Staut</td>\n",
       "      <td>M</td>\n",
       "      <td>France</td>\n",
       "      <td>FRA</td>\n",
       "      <td>2024</td>\n",
       "      <td>Summer</td>\n",
       "      <td>Paris</td>\n",
       "      <td>Equestrian</td>\n",
       "      <td>Jumping Team</td>\n",
       "      <td>Bronze</td>\n",
       "    </tr>\n",
       "    <tr>\n",
       "      <th>252564</th>\n",
       "      <td>1924402</td>\n",
       "      <td>Charlie Carvell</td>\n",
       "      <td>M</td>\n",
       "      <td>Great Britain</td>\n",
       "      <td>GBR</td>\n",
       "      <td>2024</td>\n",
       "      <td>Summer</td>\n",
       "      <td>Paris</td>\n",
       "      <td>Athletics</td>\n",
       "      <td>Men's 4 x 400m Relay</td>\n",
       "      <td>Bronze</td>\n",
       "    </tr>\n",
       "  </tbody>\n",
       "</table>\n",
       "<p>252565 rows × 11 columns</p>\n",
       "</div>"
      ],
      "text/plain": [
       "        player_id                   Name Sex               Team  NOC  Year  \\\n",
       "0               0              A Dijiang   M              China  CHN  1992   \n",
       "1               1               A Lamusi   M              China  CHN  2012   \n",
       "2               2            Gunnar Aaby   M            Denmark  DEN  1920   \n",
       "3               3            Edgar Aabye   M     Denmark/Sweden  DEN  1900   \n",
       "4              26  Cornelia (-strannood)   F        Netherlands  NED  1932   \n",
       "...           ...                    ...  ..                ...  ...   ...   \n",
       "252560    4986655             Sefora Ada   F  Equatorial Guinea  GEQ  2024   \n",
       "252561    9460001        Emanuela Liuzzi   F              Italy  ITA  2024   \n",
       "252562    1972077           Isayah Boers   M        Netherlands  NED  2024   \n",
       "252563    1899865            Kevin Staut   M             France  FRA  2024   \n",
       "252564    1924402        Charlie Carvell   M      Great Britain  GBR  2024   \n",
       "\n",
       "        Season         City       Sport                         Event  \\\n",
       "0       Summer    Barcelona  Basketball   Basketball Men's Basketball   \n",
       "1       Summer       London        Judo  Judo Men's Extra-Lightweight   \n",
       "2       Summer    Antwerpen    Football       Football Men's Football   \n",
       "3       Summer        Paris  Tug-Of-War   Tug-Of-War Men's Tug-Of-War   \n",
       "4       Summer  Los Angeles   Athletics  Athletics Women's 100 metres   \n",
       "...        ...          ...         ...                           ...   \n",
       "252560  Summer        Paris   Athletics                  Women's 100m   \n",
       "252561  Summer        Paris   Wrestling        Women's Freestyle 50kg   \n",
       "252562  Summer        Paris   Athletics          4 x 400m Relay Mixed   \n",
       "252563  Summer        Paris  Equestrian                  Jumping Team   \n",
       "252564  Summer        Paris   Athletics          Men's 4 x 400m Relay   \n",
       "\n",
       "           Medal  \n",
       "0       No medal  \n",
       "1       No medal  \n",
       "2       No medal  \n",
       "3           Gold  \n",
       "4       No medal  \n",
       "...          ...  \n",
       "252560  No medal  \n",
       "252561  No medal  \n",
       "252562      Gold  \n",
       "252563    Bronze  \n",
       "252564    Bronze  \n",
       "\n",
       "[252565 rows x 11 columns]"
      ]
     },
     "execution_count": 14,
     "metadata": {},
     "output_type": "execute_result"
    }
   ],
   "source": [
    "df"
   ]
  },
  {
   "cell_type": "code",
   "execution_count": 15,
   "id": "7f3a808f",
   "metadata": {
    "execution": {
     "iopub.execute_input": "2024-09-11T21:59:30.983438Z",
     "iopub.status.busy": "2024-09-11T21:59:30.983019Z",
     "iopub.status.idle": "2024-09-11T21:59:31.318809Z",
     "shell.execute_reply": "2024-09-11T21:59:31.317259Z"
    },
    "papermill": {
     "duration": 0.348988,
     "end_time": "2024-09-11T21:59:31.321495",
     "exception": false,
     "start_time": "2024-09-11T21:59:30.972507",
     "status": "completed"
    },
    "tags": []
   },
   "outputs": [
    {
     "data": {
      "text/plain": [
       "Text(0, 0.5, 'Number of times visited')"
      ]
     },
     "execution_count": 15,
     "metadata": {},
     "output_type": "execute_result"
    },
    {
     "data": {
      "image/png": "[encoded data removed]",
      "text/plain": [
       "<Figure size 640x480 with 1 Axes>"
      ]
     },
     "metadata": {},
     "output_type": "display_data"
    }
   ],
   "source": [
    "year_count=df['Year'].value_counts().head()\n",
    "sns.barplot(x=year_count.index, y=year_count.values, palette='winter')\n",
    "plt.ylim(13500,15500)\n",
    "plt.title('Most Visited Year by Tourists in the World')\n",
    "plt.xlabel('Years')\n",
    "plt.ylabel('Number of times visited')"
   ]
  },
  {
   "cell_type": "code",
   "execution_count": 16,
   "id": "e6ee6272",
   "metadata": {
    "execution": {
     "iopub.execute_input": "2024-09-11T21:59:31.342913Z",
     "iopub.status.busy": "2024-09-11T21:59:31.342467Z",
     "iopub.status.idle": "2024-09-11T21:59:31.360583Z",
     "shell.execute_reply": "2024-09-11T21:59:31.359398Z"
    },
    "papermill": {
     "duration": 0.031922,
     "end_time": "2024-09-11T21:59:31.363232",
     "exception": false,
     "start_time": "2024-09-11T21:59:31.331310",
     "status": "completed"
    },
    "tags": []
   },
   "outputs": [
    {
     "data": {
      "text/html": [
       "<div>\n",
       "<style scoped>\n",
       "    .dataframe tbody tr th:only-of-type {\n",
       "        vertical-align: middle;\n",
       "    }\n",
       "\n",
       "    .dataframe tbody tr th {\n",
       "        vertical-align: top;\n",
       "    }\n",
       "\n",
       "    .dataframe thead th {\n",
       "        text-align: right;\n",
       "    }\n",
       "</style>\n",
       "<table border=\"1\" class=\"dataframe\">\n",
       "  <thead>\n",
       "    <tr style=\"text-align: right;\">\n",
       "      <th></th>\n",
       "      <th>player_id</th>\n",
       "      <th>Name</th>\n",
       "      <th>Sex</th>\n",
       "      <th>Team</th>\n",
       "      <th>NOC</th>\n",
       "      <th>Year</th>\n",
       "      <th>Season</th>\n",
       "      <th>City</th>\n",
       "      <th>Sport</th>\n",
       "      <th>Event</th>\n",
       "      <th>Medal</th>\n",
       "    </tr>\n",
       "  </thead>\n",
       "  <tbody>\n",
       "    <tr>\n",
       "      <th>0</th>\n",
       "      <td>0</td>\n",
       "      <td>A Dijiang</td>\n",
       "      <td>M</td>\n",
       "      <td>China</td>\n",
       "      <td>CHN</td>\n",
       "      <td>1992</td>\n",
       "      <td>Summer</td>\n",
       "      <td>Barcelona</td>\n",
       "      <td>Basketball</td>\n",
       "      <td>Basketball Men's Basketball</td>\n",
       "      <td>No medal</td>\n",
       "    </tr>\n",
       "    <tr>\n",
       "      <th>1</th>\n",
       "      <td>1</td>\n",
       "      <td>A Lamusi</td>\n",
       "      <td>M</td>\n",
       "      <td>China</td>\n",
       "      <td>CHN</td>\n",
       "      <td>2012</td>\n",
       "      <td>Summer</td>\n",
       "      <td>London</td>\n",
       "      <td>Judo</td>\n",
       "      <td>Judo Men's Extra-Lightweight</td>\n",
       "      <td>No medal</td>\n",
       "    </tr>\n",
       "    <tr>\n",
       "      <th>2</th>\n",
       "      <td>2</td>\n",
       "      <td>Gunnar Aaby</td>\n",
       "      <td>M</td>\n",
       "      <td>Denmark</td>\n",
       "      <td>DEN</td>\n",
       "      <td>1920</td>\n",
       "      <td>Summer</td>\n",
       "      <td>Antwerpen</td>\n",
       "      <td>Football</td>\n",
       "      <td>Football Men's Football</td>\n",
       "      <td>No medal</td>\n",
       "    </tr>\n",
       "    <tr>\n",
       "      <th>3</th>\n",
       "      <td>3</td>\n",
       "      <td>Edgar Aabye</td>\n",
       "      <td>M</td>\n",
       "      <td>Denmark/Sweden</td>\n",
       "      <td>DEN</td>\n",
       "      <td>1900</td>\n",
       "      <td>Summer</td>\n",
       "      <td>Paris</td>\n",
       "      <td>Tug-Of-War</td>\n",
       "      <td>Tug-Of-War Men's Tug-Of-War</td>\n",
       "      <td>Gold</td>\n",
       "    </tr>\n",
       "    <tr>\n",
       "      <th>4</th>\n",
       "      <td>26</td>\n",
       "      <td>Cornelia (-strannood)</td>\n",
       "      <td>F</td>\n",
       "      <td>Netherlands</td>\n",
       "      <td>NED</td>\n",
       "      <td>1932</td>\n",
       "      <td>Summer</td>\n",
       "      <td>Los Angeles</td>\n",
       "      <td>Athletics</td>\n",
       "      <td>Athletics Women's 100 metres</td>\n",
       "      <td>No medal</td>\n",
       "    </tr>\n",
       "  </tbody>\n",
       "</table>\n",
       "</div>"
      ],
      "text/plain": [
       "   player_id                   Name Sex            Team  NOC  Year  Season  \\\n",
       "0          0              A Dijiang   M           China  CHN  1992  Summer   \n",
       "1          1               A Lamusi   M           China  CHN  2012  Summer   \n",
       "2          2            Gunnar Aaby   M         Denmark  DEN  1920  Summer   \n",
       "3          3            Edgar Aabye   M  Denmark/Sweden  DEN  1900  Summer   \n",
       "4         26  Cornelia (-strannood)   F     Netherlands  NED  1932  Summer   \n",
       "\n",
       "          City       Sport                         Event     Medal  \n",
       "0    Barcelona  Basketball   Basketball Men's Basketball  No medal  \n",
       "1       London        Judo  Judo Men's Extra-Lightweight  No medal  \n",
       "2    Antwerpen    Football       Football Men's Football  No medal  \n",
       "3        Paris  Tug-Of-War   Tug-Of-War Men's Tug-Of-War      Gold  \n",
       "4  Los Angeles   Athletics  Athletics Women's 100 metres  No medal  "
      ]
     },
     "execution_count": 16,
     "metadata": {},
     "output_type": "execute_result"
    }
   ],
   "source": [
    "df.head()"
   ]
  },
  {
   "cell_type": "code",
   "execution_count": null,
   "id": "9aef5b1a",
   "metadata": {
    "papermill": {
     "duration": 0.009963,
     "end_time": "2024-09-11T21:59:31.384114",
     "exception": false,
     "start_time": "2024-09-11T21:59:31.374151",
     "status": "completed"
    },
    "tags": []
   },
   "outputs": [],
   "source": []
  }
 ],
 "metadata": {
  "kaggle": {
   "accelerator": "none",
   "dataSources": [
    {
     "datasetId": 5615125,
     "sourceId": 9277569,
     "sourceType": "datasetVersion"
    }
   ],
   "dockerImageVersionId": 30761,
   "isGpuEnabled": false,
   "isInternetEnabled": false,
   "language": "python",
   "sourceType": "notebook"
  },
  "kernelspec": {
   "display_name": "Python 3",
   "language": "python",
   "name": "python3"
  },
  "language_info": {
   "codemirror_mode": {
    "name": "ipython",
    "version": 3
   },
   "file_extension": ".py",
   "mimetype": "text/x-python",
   "name": "python",
   "nbconvert_exporter": "python",
   "pygments_lexer": "ipython3",
   "version": "3.10.14"
  },
  "papermill": {
   "default_parameters": {},
   "duration": 8.616314,
   "end_time": "2024-09-11T21:59:32.016968",
   "environment_variables": {},
   "exception": null,
   "input_path": "__notebook__.ipynb",
   "output_path": "__notebook__.ipynb",
   "parameters": {},
   "start_time": "2024-09-11T21:59:23.400654",
   "version": "2.6.0"
  }
 },
 "nbformat": 4,
 "nbformat_minor": 5
}
